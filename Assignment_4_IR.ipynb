{
  "cells": [
    {
      "cell_type": "markdown",
      "metadata": {
        "id": "6jUfWDWm3w-y"
      },
      "source": [
        "# IR Assignment 4\n",
        "## Dreamy Pujara - 202211005"
      ]
    },
    {
      "cell_type": "code",
      "execution_count": 1,
      "metadata": {
        "colab": {
          "base_uri": "https://localhost:8080/"
        },
        "id": "QjkyYTgfgCTi",
        "outputId": "cee23c21-fae4-4518-ac08-54b791226cfc"
      },
      "outputs": [
        {
          "output_type": "stream",
          "name": "stdout",
          "text": [
            "Mounted at /content/drive\n"
          ]
        }
      ],
      "source": [
        "from google.colab import drive\n",
        "drive.mount('/content/drive')\n"
      ]
    },
    {
      "cell_type": "code",
      "execution_count": 2,
      "metadata": {
        "colab": {
          "base_uri": "https://localhost:8080/"
        },
        "id": "jBn3vxJhgO2U",
        "outputId": "bd1e6694-0fa6-4ad6-8758-f12b3c684d93"
      },
      "outputs": [
        {
          "output_type": "stream",
          "name": "stdout",
          "text": [
            "Extracted files: ['gujarati_corpus']\n"
          ]
        }
      ],
      "source": [
        "#Download and Unzip the Dataset\n",
        "import os\n",
        "import zipfile\n",
        "\n",
        "# Path to the zip file on Google Drive\n",
        "zip_file_path = '/content/drive/MyDrive/gujarati_corpus.zip'\n",
        "\n",
        "# Destination directory to extract the dataset\n",
        "extracted_dir = '/content/gujarati_corpus'\n",
        "\n",
        "# Create the destination directory if it doesn't exist\n",
        "os.makedirs(extracted_dir, exist_ok=True)\n",
        "\n",
        "# Unzip the dataset\n",
        "with zipfile.ZipFile(zip_file_path, 'r') as zip_ref:\n",
        "    zip_ref.extractall(extracted_dir)\n",
        "\n",
        "# List the contents of the extracted directory\n",
        "extracted_files = os.listdir(extracted_dir)\n",
        "print(\"Extracted files:\", extracted_files)"
      ]
    },
    {
      "cell_type": "code",
      "execution_count": 3,
      "metadata": {
        "colab": {
          "base_uri": "https://localhost:8080/"
        },
        "id": "tjN2bd8QhOkR",
        "outputId": "ff3f98d5-9b5f-4739-e036-fde594e8eeba"
      },
      "outputs": [
        {
          "output_type": "stream",
          "name": "stdout",
          "text": [
            "Extracted files: ['gu.topics.176-225.2012.txt', 'gu.qrels.176-225.2012-v1.txt.gz', 'gu.docs.2011', 'gu.docs.2011.tar']\n"
          ]
        }
      ],
      "source": [
        "import os\n",
        "import tarfile\n",
        "\n",
        "# Path to the tar file on Google Drive\n",
        "tar_file_path = '/content/gujarati_corpus/gujarati_corpus/gu.docs.2011.tar'\n",
        "\n",
        "# Destination directory to extract the tar contents\n",
        "extracted_dir = '/content/gujarati_corpus/gujarati_corpus'\n",
        "\n",
        "# Create the destination directory if it doesn't exist\n",
        "os.makedirs(extracted_dir, exist_ok=True)\n",
        "\n",
        "# Extract the tar file\n",
        "with tarfile.open(tar_file_path, 'r') as tar:\n",
        "    tar.extractall(extracted_dir)\n",
        "\n",
        "# List the contents of the extracted directory\n",
        "extracted_files = os.listdir(extracted_dir)\n",
        "print(\"Extracted files:\", extracted_files)\n"
      ]
    },
    {
      "cell_type": "code",
      "execution_count": 4,
      "metadata": {
        "colab": {
          "base_uri": "https://localhost:8080/"
        },
        "id": "8hQsqlvohtXL",
        "outputId": "3b375d07-098b-442c-d18b-7047eb25e225"
      },
      "outputs": [
        {
          "output_type": "stream",
          "name": "stdout",
          "text": [
            "Extracted files: ['gujarati_corpus', 'gu.qrels.176-225.2012-v1.txt']\n"
          ]
        }
      ],
      "source": [
        "import os\n",
        "import gzip\n",
        "\n",
        "# Path to the .gz file on Google Drive\n",
        "gz_file_path = '/content/gujarati_corpus/gujarati_corpus/gu.qrels.176-225.2012-v1.txt.gz'\n",
        "\n",
        "# Destination directory to extract the .gz contents\n",
        "extracted_dir = '/content/gujarati_corpus'\n",
        "\n",
        "# Create the destination directory if it doesn't exist\n",
        "os.makedirs(extracted_dir, exist_ok=True)\n",
        "\n",
        "# Extract the .gz file\n",
        "extracted_file_path = os.path.join(extracted_dir, os.path.basename(gz_file_path)[:-3])  # Remove '.gz' extension\n",
        "with gzip.open(gz_file_path, 'rb') as gz_file, open(extracted_file_path, 'wb') as extracted_file:\n",
        "    extracted_file.write(gz_file.read())\n",
        "\n",
        "# List the contents of the extracted directory\n",
        "extracted_files = os.listdir(extracted_dir)\n",
        "print(\"Extracted files:\", extracted_files)\n"
      ]
    },
    {
      "cell_type": "code",
      "execution_count": 5,
      "metadata": {
        "colab": {
          "base_uri": "https://localhost:8080/"
        },
        "id": "UyfYD87JiHHw",
        "outputId": "4c437933-4c9a-45f1-81ca-276c41ab2752"
      },
      "outputs": [
        {
          "output_type": "stream",
          "name": "stdout",
          "text": [
            "Extracted files: ['gu_GujaratSamachar', 'gujarati_corpus', 'gu.qrels.176-225.2012-v1.txt']\n"
          ]
        }
      ],
      "source": [
        "import os\n",
        "import tarfile\n",
        "import gzip\n",
        "\n",
        "# Path to the .tgz file on Google Drive\n",
        "tgz_file_path = '/content/gujarati_corpus/gujarati_corpus/gu.docs.2011/gu_GujaratSamachar.tgz'\n",
        "\n",
        "# Destination directory to extract the .tgz contents\n",
        "extracted_dir = '/content/gujarati_corpus'\n",
        "\n",
        "# Create the destination directory if it doesn't exist\n",
        "os.makedirs(extracted_dir, exist_ok=True)\n",
        "\n",
        "# Extract the .tgz file\n",
        "with tarfile.open(tgz_file_path, 'r:gz') as tgz_file:\n",
        "    tgz_file.extractall(extracted_dir)\n",
        "\n",
        "# List the contents of the extracted directory\n",
        "extracted_files = os.listdir(extracted_dir)\n",
        "print(\"Extracted files:\", extracted_files)\n",
        "\n"
      ]
    },
    {
      "cell_type": "markdown",
      "metadata": {
        "id": "AProxZhLkDT6"
      },
      "source": [
        "1. Read the files using BeautifulSoup library, perform preprocessing (stemming, normalize, tokenize) using\n",
        "Indic NLP library [1 marks]"
      ]
    },
    {
      "cell_type": "code",
      "execution_count": 6,
      "metadata": {
        "colab": {
          "base_uri": "https://localhost:8080/"
        },
        "id": "vlR8lrZAiaVV",
        "outputId": "f7b173e9-44a3-4201-b500-2ac2f14fe28e"
      },
      "outputs": [
        {
          "output_type": "stream",
          "name": "stdout",
          "text": [
            "Requirement already satisfied: beautifulsoup4 in /usr/local/lib/python3.10/dist-packages (4.11.2)\n",
            "Requirement already satisfied: soupsieve>1.2 in /usr/local/lib/python3.10/dist-packages (from beautifulsoup4) (2.4.1)\n",
            "Collecting git+https://github.com/anoopkunchukuttan/indic_nlp_library.git\n",
            "  Cloning https://github.com/anoopkunchukuttan/indic_nlp_library.git to /tmp/pip-req-build-ok35u0le\n",
            "  Running command git clone --filter=blob:none --quiet https://github.com/anoopkunchukuttan/indic_nlp_library.git /tmp/pip-req-build-ok35u0le\n",
            "  Resolved https://github.com/anoopkunchukuttan/indic_nlp_library.git to commit 50cfc16f99a9a419b46dc35777b67e6d009246ec\n",
            "  Preparing metadata (setup.py) ... \u001b[?25l\u001b[?25hdone\n",
            "Collecting sphinx-argparse (from indic-nlp-library==0.92)\n",
            "  Downloading sphinx_argparse-0.4.0-py3-none-any.whl (12 kB)\n",
            "Collecting sphinx_rtd_theme (from indic-nlp-library==0.92)\n",
            "  Downloading sphinx_rtd_theme-1.3.0-py2.py3-none-any.whl (2.8 MB)\n",
            "\u001b[2K     \u001b[90m━━━━━━━━━━━━━━━━━━━━━━━━━━━━━━━━━━━━━━━━\u001b[0m \u001b[32m2.8/2.8 MB\u001b[0m \u001b[31m10.3 MB/s\u001b[0m eta \u001b[36m0:00:00\u001b[0m\n",
            "\u001b[?25hCollecting morfessor (from indic-nlp-library==0.92)\n",
            "  Downloading Morfessor-2.0.6-py3-none-any.whl (35 kB)\n",
            "Requirement already satisfied: pandas in /usr/local/lib/python3.10/dist-packages (from indic-nlp-library==0.92) (1.5.3)\n",
            "Requirement already satisfied: numpy in /usr/local/lib/python3.10/dist-packages (from indic-nlp-library==0.92) (1.23.5)\n",
            "Requirement already satisfied: python-dateutil>=2.8.1 in /usr/local/lib/python3.10/dist-packages (from pandas->indic-nlp-library==0.92) (2.8.2)\n",
            "Requirement already satisfied: pytz>=2020.1 in /usr/local/lib/python3.10/dist-packages (from pandas->indic-nlp-library==0.92) (2023.3)\n",
            "Requirement already satisfied: sphinx>=1.2.0 in /usr/local/lib/python3.10/dist-packages (from sphinx-argparse->indic-nlp-library==0.92) (5.0.2)\n",
            "Requirement already satisfied: docutils<0.19 in /usr/local/lib/python3.10/dist-packages (from sphinx_rtd_theme->indic-nlp-library==0.92) (0.18.1)\n",
            "Collecting sphinxcontrib-jquery<5,>=4 (from sphinx_rtd_theme->indic-nlp-library==0.92)\n",
            "  Downloading sphinxcontrib_jquery-4.1-py2.py3-none-any.whl (121 kB)\n",
            "\u001b[2K     \u001b[90m━━━━━━━━━━━━━━━━━━━━━━━━━━━━━━━━━━━━━━\u001b[0m \u001b[32m121.1/121.1 kB\u001b[0m \u001b[31m11.5 MB/s\u001b[0m eta \u001b[36m0:00:00\u001b[0m\n",
            "\u001b[?25hRequirement already satisfied: six>=1.5 in /usr/local/lib/python3.10/dist-packages (from python-dateutil>=2.8.1->pandas->indic-nlp-library==0.92) (1.16.0)\n",
            "Requirement already satisfied: sphinxcontrib-applehelp in /usr/local/lib/python3.10/dist-packages (from sphinx>=1.2.0->sphinx-argparse->indic-nlp-library==0.92) (1.0.7)\n",
            "Requirement already satisfied: sphinxcontrib-devhelp in /usr/local/lib/python3.10/dist-packages (from sphinx>=1.2.0->sphinx-argparse->indic-nlp-library==0.92) (1.0.5)\n",
            "Requirement already satisfied: sphinxcontrib-jsmath in /usr/local/lib/python3.10/dist-packages (from sphinx>=1.2.0->sphinx-argparse->indic-nlp-library==0.92) (1.0.1)\n",
            "Requirement already satisfied: sphinxcontrib-htmlhelp>=2.0.0 in /usr/local/lib/python3.10/dist-packages (from sphinx>=1.2.0->sphinx-argparse->indic-nlp-library==0.92) (2.0.4)\n",
            "Requirement already satisfied: sphinxcontrib-serializinghtml>=1.1.5 in /usr/local/lib/python3.10/dist-packages (from sphinx>=1.2.0->sphinx-argparse->indic-nlp-library==0.92) (1.1.9)\n",
            "Requirement already satisfied: sphinxcontrib-qthelp in /usr/local/lib/python3.10/dist-packages (from sphinx>=1.2.0->sphinx-argparse->indic-nlp-library==0.92) (1.0.6)\n",
            "Requirement already satisfied: Jinja2>=2.3 in /usr/local/lib/python3.10/dist-packages (from sphinx>=1.2.0->sphinx-argparse->indic-nlp-library==0.92) (3.1.2)\n",
            "Requirement already satisfied: Pygments>=2.0 in /usr/local/lib/python3.10/dist-packages (from sphinx>=1.2.0->sphinx-argparse->indic-nlp-library==0.92) (2.16.1)\n",
            "Requirement already satisfied: snowballstemmer>=1.1 in /usr/local/lib/python3.10/dist-packages (from sphinx>=1.2.0->sphinx-argparse->indic-nlp-library==0.92) (2.2.0)\n",
            "Requirement already satisfied: babel>=1.3 in /usr/local/lib/python3.10/dist-packages (from sphinx>=1.2.0->sphinx-argparse->indic-nlp-library==0.92) (2.12.1)\n",
            "Requirement already satisfied: alabaster<0.8,>=0.7 in /usr/local/lib/python3.10/dist-packages (from sphinx>=1.2.0->sphinx-argparse->indic-nlp-library==0.92) (0.7.13)\n",
            "Requirement already satisfied: imagesize in /usr/local/lib/python3.10/dist-packages (from sphinx>=1.2.0->sphinx-argparse->indic-nlp-library==0.92) (1.4.1)\n",
            "Requirement already satisfied: requests>=2.5.0 in /usr/local/lib/python3.10/dist-packages (from sphinx>=1.2.0->sphinx-argparse->indic-nlp-library==0.92) (2.31.0)\n",
            "Requirement already satisfied: packaging in /usr/local/lib/python3.10/dist-packages (from sphinx>=1.2.0->sphinx-argparse->indic-nlp-library==0.92) (23.1)\n",
            "Requirement already satisfied: MarkupSafe>=2.0 in /usr/local/lib/python3.10/dist-packages (from Jinja2>=2.3->sphinx>=1.2.0->sphinx-argparse->indic-nlp-library==0.92) (2.1.3)\n",
            "Requirement already satisfied: charset-normalizer<4,>=2 in /usr/local/lib/python3.10/dist-packages (from requests>=2.5.0->sphinx>=1.2.0->sphinx-argparse->indic-nlp-library==0.92) (3.2.0)\n",
            "Requirement already satisfied: idna<4,>=2.5 in /usr/local/lib/python3.10/dist-packages (from requests>=2.5.0->sphinx>=1.2.0->sphinx-argparse->indic-nlp-library==0.92) (3.4)\n",
            "Requirement already satisfied: urllib3<3,>=1.21.1 in /usr/local/lib/python3.10/dist-packages (from requests>=2.5.0->sphinx>=1.2.0->sphinx-argparse->indic-nlp-library==0.92) (2.0.4)\n",
            "Requirement already satisfied: certifi>=2017.4.17 in /usr/local/lib/python3.10/dist-packages (from requests>=2.5.0->sphinx>=1.2.0->sphinx-argparse->indic-nlp-library==0.92) (2023.7.22)\n",
            "Building wheels for collected packages: indic-nlp-library\n",
            "  Building wheel for indic-nlp-library (setup.py) ... \u001b[?25l\u001b[?25hdone\n",
            "  Created wheel for indic-nlp-library: filename=indic_nlp_library-0.92-py3-none-any.whl size=40757 sha256=d00e95f74610e71bb5e395d59d15501e57461146a7a9d91fbfb941db9cf6c828\n",
            "  Stored in directory: /tmp/pip-ephem-wheel-cache-yqma_xu0/wheels/98/bc/25/381dc5529b731f558b894c7544c4f3ac12ab58b97de9c3b23d\n",
            "Successfully built indic-nlp-library\n",
            "Installing collected packages: morfessor, sphinxcontrib-jquery, sphinx_rtd_theme, sphinx-argparse, indic-nlp-library\n",
            "Successfully installed indic-nlp-library-0.92 morfessor-2.0.6 sphinx-argparse-0.4.0 sphinx_rtd_theme-1.3.0 sphinxcontrib-jquery-4.1\n"
          ]
        }
      ],
      "source": [
        "!pip install beautifulsoup4\n",
        "!pip install git+https://github.com/anoopkunchukuttan/indic_nlp_library.git\n",
        "\n",
        "from bs4 import BeautifulSoup\n",
        "from indicnlp.tokenize import indic_tokenize\n",
        "from indicnlp.normalize import indic_normalize\n",
        "\n"
      ]
    },
    {
      "cell_type": "code",
      "execution_count": 7,
      "metadata": {
        "colab": {
          "base_uri": "https://localhost:8080/"
        },
        "id": "n-JHxZ2ckB9w",
        "outputId": "bdd13298-fed2-44a5-af61-fd6eb122ac63"
      },
      "outputs": [
        {
          "output_type": "stream",
          "name": "stdout",
          "text": [
            "Requirement already satisfied: indic-nlp-library in /usr/local/lib/python3.10/dist-packages (0.92)\n",
            "Requirement already satisfied: sphinx-argparse in /usr/local/lib/python3.10/dist-packages (from indic-nlp-library) (0.4.0)\n",
            "Requirement already satisfied: sphinx-rtd-theme in /usr/local/lib/python3.10/dist-packages (from indic-nlp-library) (1.3.0)\n",
            "Requirement already satisfied: morfessor in /usr/local/lib/python3.10/dist-packages (from indic-nlp-library) (2.0.6)\n",
            "Requirement already satisfied: pandas in /usr/local/lib/python3.10/dist-packages (from indic-nlp-library) (1.5.3)\n",
            "Requirement already satisfied: numpy in /usr/local/lib/python3.10/dist-packages (from indic-nlp-library) (1.23.5)\n",
            "Requirement already satisfied: python-dateutil>=2.8.1 in /usr/local/lib/python3.10/dist-packages (from pandas->indic-nlp-library) (2.8.2)\n",
            "Requirement already satisfied: pytz>=2020.1 in /usr/local/lib/python3.10/dist-packages (from pandas->indic-nlp-library) (2023.3)\n",
            "Requirement already satisfied: sphinx>=1.2.0 in /usr/local/lib/python3.10/dist-packages (from sphinx-argparse->indic-nlp-library) (5.0.2)\n",
            "Requirement already satisfied: docutils<0.19 in /usr/local/lib/python3.10/dist-packages (from sphinx-rtd-theme->indic-nlp-library) (0.18.1)\n",
            "Requirement already satisfied: sphinxcontrib-jquery<5,>=4 in /usr/local/lib/python3.10/dist-packages (from sphinx-rtd-theme->indic-nlp-library) (4.1)\n",
            "Requirement already satisfied: six>=1.5 in /usr/local/lib/python3.10/dist-packages (from python-dateutil>=2.8.1->pandas->indic-nlp-library) (1.16.0)\n",
            "Requirement already satisfied: sphinxcontrib-applehelp in /usr/local/lib/python3.10/dist-packages (from sphinx>=1.2.0->sphinx-argparse->indic-nlp-library) (1.0.7)\n",
            "Requirement already satisfied: sphinxcontrib-devhelp in /usr/local/lib/python3.10/dist-packages (from sphinx>=1.2.0->sphinx-argparse->indic-nlp-library) (1.0.5)\n",
            "Requirement already satisfied: sphinxcontrib-jsmath in /usr/local/lib/python3.10/dist-packages (from sphinx>=1.2.0->sphinx-argparse->indic-nlp-library) (1.0.1)\n",
            "Requirement already satisfied: sphinxcontrib-htmlhelp>=2.0.0 in /usr/local/lib/python3.10/dist-packages (from sphinx>=1.2.0->sphinx-argparse->indic-nlp-library) (2.0.4)\n",
            "Requirement already satisfied: sphinxcontrib-serializinghtml>=1.1.5 in /usr/local/lib/python3.10/dist-packages (from sphinx>=1.2.0->sphinx-argparse->indic-nlp-library) (1.1.9)\n",
            "Requirement already satisfied: sphinxcontrib-qthelp in /usr/local/lib/python3.10/dist-packages (from sphinx>=1.2.0->sphinx-argparse->indic-nlp-library) (1.0.6)\n",
            "Requirement already satisfied: Jinja2>=2.3 in /usr/local/lib/python3.10/dist-packages (from sphinx>=1.2.0->sphinx-argparse->indic-nlp-library) (3.1.2)\n",
            "Requirement already satisfied: Pygments>=2.0 in /usr/local/lib/python3.10/dist-packages (from sphinx>=1.2.0->sphinx-argparse->indic-nlp-library) (2.16.1)\n",
            "Requirement already satisfied: snowballstemmer>=1.1 in /usr/local/lib/python3.10/dist-packages (from sphinx>=1.2.0->sphinx-argparse->indic-nlp-library) (2.2.0)\n",
            "Requirement already satisfied: babel>=1.3 in /usr/local/lib/python3.10/dist-packages (from sphinx>=1.2.0->sphinx-argparse->indic-nlp-library) (2.12.1)\n",
            "Requirement already satisfied: alabaster<0.8,>=0.7 in /usr/local/lib/python3.10/dist-packages (from sphinx>=1.2.0->sphinx-argparse->indic-nlp-library) (0.7.13)\n",
            "Requirement already satisfied: imagesize in /usr/local/lib/python3.10/dist-packages (from sphinx>=1.2.0->sphinx-argparse->indic-nlp-library) (1.4.1)\n",
            "Requirement already satisfied: requests>=2.5.0 in /usr/local/lib/python3.10/dist-packages (from sphinx>=1.2.0->sphinx-argparse->indic-nlp-library) (2.31.0)\n",
            "Requirement already satisfied: packaging in /usr/local/lib/python3.10/dist-packages (from sphinx>=1.2.0->sphinx-argparse->indic-nlp-library) (23.1)\n",
            "Requirement already satisfied: MarkupSafe>=2.0 in /usr/local/lib/python3.10/dist-packages (from Jinja2>=2.3->sphinx>=1.2.0->sphinx-argparse->indic-nlp-library) (2.1.3)\n",
            "Requirement already satisfied: charset-normalizer<4,>=2 in /usr/local/lib/python3.10/dist-packages (from requests>=2.5.0->sphinx>=1.2.0->sphinx-argparse->indic-nlp-library) (3.2.0)\n",
            "Requirement already satisfied: idna<4,>=2.5 in /usr/local/lib/python3.10/dist-packages (from requests>=2.5.0->sphinx>=1.2.0->sphinx-argparse->indic-nlp-library) (3.4)\n",
            "Requirement already satisfied: urllib3<3,>=1.21.1 in /usr/local/lib/python3.10/dist-packages (from requests>=2.5.0->sphinx>=1.2.0->sphinx-argparse->indic-nlp-library) (2.0.4)\n",
            "Requirement already satisfied: certifi>=2017.4.17 in /usr/local/lib/python3.10/dist-packages (from requests>=2.5.0->sphinx>=1.2.0->sphinx-argparse->indic-nlp-library) (2023.7.22)\n"
          ]
        }
      ],
      "source": [
        "pip install indic-nlp-library\n"
      ]
    },
    {
      "cell_type": "code",
      "execution_count": 8,
      "metadata": {
        "colab": {
          "base_uri": "https://localhost:8080/"
        },
        "id": "Yvj3VozYkLaw",
        "outputId": "5eacf365-2a52-46c6-9434-720b91e1de17"
      },
      "outputs": [
        {
          "output_type": "stream",
          "name": "stdout",
          "text": [
            "Collecting git+https://github.com/anoopkunchukuttan/indic_nlp_library.git\n",
            "  Cloning https://github.com/anoopkunchukuttan/indic_nlp_library.git to /tmp/pip-req-build-3go7l4gj\n",
            "  Running command git clone --filter=blob:none --quiet https://github.com/anoopkunchukuttan/indic_nlp_library.git /tmp/pip-req-build-3go7l4gj\n",
            "  Resolved https://github.com/anoopkunchukuttan/indic_nlp_library.git to commit 50cfc16f99a9a419b46dc35777b67e6d009246ec\n",
            "  Preparing metadata (setup.py) ... \u001b[?25l\u001b[?25hdone\n",
            "Requirement already satisfied: sphinx-argparse in /usr/local/lib/python3.10/dist-packages (from indic-nlp-library==0.92) (0.4.0)\n",
            "Requirement already satisfied: sphinx_rtd_theme in /usr/local/lib/python3.10/dist-packages (from indic-nlp-library==0.92) (1.3.0)\n",
            "Requirement already satisfied: morfessor in /usr/local/lib/python3.10/dist-packages (from indic-nlp-library==0.92) (2.0.6)\n",
            "Requirement already satisfied: pandas in /usr/local/lib/python3.10/dist-packages (from indic-nlp-library==0.92) (1.5.3)\n",
            "Requirement already satisfied: numpy in /usr/local/lib/python3.10/dist-packages (from indic-nlp-library==0.92) (1.23.5)\n",
            "Requirement already satisfied: python-dateutil>=2.8.1 in /usr/local/lib/python3.10/dist-packages (from pandas->indic-nlp-library==0.92) (2.8.2)\n",
            "Requirement already satisfied: pytz>=2020.1 in /usr/local/lib/python3.10/dist-packages (from pandas->indic-nlp-library==0.92) (2023.3)\n",
            "Requirement already satisfied: sphinx>=1.2.0 in /usr/local/lib/python3.10/dist-packages (from sphinx-argparse->indic-nlp-library==0.92) (5.0.2)\n",
            "Requirement already satisfied: docutils<0.19 in /usr/local/lib/python3.10/dist-packages (from sphinx_rtd_theme->indic-nlp-library==0.92) (0.18.1)\n",
            "Requirement already satisfied: sphinxcontrib-jquery<5,>=4 in /usr/local/lib/python3.10/dist-packages (from sphinx_rtd_theme->indic-nlp-library==0.92) (4.1)\n",
            "Requirement already satisfied: six>=1.5 in /usr/local/lib/python3.10/dist-packages (from python-dateutil>=2.8.1->pandas->indic-nlp-library==0.92) (1.16.0)\n",
            "Requirement already satisfied: sphinxcontrib-applehelp in /usr/local/lib/python3.10/dist-packages (from sphinx>=1.2.0->sphinx-argparse->indic-nlp-library==0.92) (1.0.7)\n",
            "Requirement already satisfied: sphinxcontrib-devhelp in /usr/local/lib/python3.10/dist-packages (from sphinx>=1.2.0->sphinx-argparse->indic-nlp-library==0.92) (1.0.5)\n",
            "Requirement already satisfied: sphinxcontrib-jsmath in /usr/local/lib/python3.10/dist-packages (from sphinx>=1.2.0->sphinx-argparse->indic-nlp-library==0.92) (1.0.1)\n",
            "Requirement already satisfied: sphinxcontrib-htmlhelp>=2.0.0 in /usr/local/lib/python3.10/dist-packages (from sphinx>=1.2.0->sphinx-argparse->indic-nlp-library==0.92) (2.0.4)\n",
            "Requirement already satisfied: sphinxcontrib-serializinghtml>=1.1.5 in /usr/local/lib/python3.10/dist-packages (from sphinx>=1.2.0->sphinx-argparse->indic-nlp-library==0.92) (1.1.9)\n",
            "Requirement already satisfied: sphinxcontrib-qthelp in /usr/local/lib/python3.10/dist-packages (from sphinx>=1.2.0->sphinx-argparse->indic-nlp-library==0.92) (1.0.6)\n",
            "Requirement already satisfied: Jinja2>=2.3 in /usr/local/lib/python3.10/dist-packages (from sphinx>=1.2.0->sphinx-argparse->indic-nlp-library==0.92) (3.1.2)\n",
            "Requirement already satisfied: Pygments>=2.0 in /usr/local/lib/python3.10/dist-packages (from sphinx>=1.2.0->sphinx-argparse->indic-nlp-library==0.92) (2.16.1)\n",
            "Requirement already satisfied: snowballstemmer>=1.1 in /usr/local/lib/python3.10/dist-packages (from sphinx>=1.2.0->sphinx-argparse->indic-nlp-library==0.92) (2.2.0)\n",
            "Requirement already satisfied: babel>=1.3 in /usr/local/lib/python3.10/dist-packages (from sphinx>=1.2.0->sphinx-argparse->indic-nlp-library==0.92) (2.12.1)\n",
            "Requirement already satisfied: alabaster<0.8,>=0.7 in /usr/local/lib/python3.10/dist-packages (from sphinx>=1.2.0->sphinx-argparse->indic-nlp-library==0.92) (0.7.13)\n",
            "Requirement already satisfied: imagesize in /usr/local/lib/python3.10/dist-packages (from sphinx>=1.2.0->sphinx-argparse->indic-nlp-library==0.92) (1.4.1)\n",
            "Requirement already satisfied: requests>=2.5.0 in /usr/local/lib/python3.10/dist-packages (from sphinx>=1.2.0->sphinx-argparse->indic-nlp-library==0.92) (2.31.0)\n",
            "Requirement already satisfied: packaging in /usr/local/lib/python3.10/dist-packages (from sphinx>=1.2.0->sphinx-argparse->indic-nlp-library==0.92) (23.1)\n",
            "Requirement already satisfied: MarkupSafe>=2.0 in /usr/local/lib/python3.10/dist-packages (from Jinja2>=2.3->sphinx>=1.2.0->sphinx-argparse->indic-nlp-library==0.92) (2.1.3)\n",
            "Requirement already satisfied: charset-normalizer<4,>=2 in /usr/local/lib/python3.10/dist-packages (from requests>=2.5.0->sphinx>=1.2.0->sphinx-argparse->indic-nlp-library==0.92) (3.2.0)\n",
            "Requirement already satisfied: idna<4,>=2.5 in /usr/local/lib/python3.10/dist-packages (from requests>=2.5.0->sphinx>=1.2.0->sphinx-argparse->indic-nlp-library==0.92) (3.4)\n",
            "Requirement already satisfied: urllib3<3,>=1.21.1 in /usr/local/lib/python3.10/dist-packages (from requests>=2.5.0->sphinx>=1.2.0->sphinx-argparse->indic-nlp-library==0.92) (2.0.4)\n",
            "Requirement already satisfied: certifi>=2017.4.17 in /usr/local/lib/python3.10/dist-packages (from requests>=2.5.0->sphinx>=1.2.0->sphinx-argparse->indic-nlp-library==0.92) (2023.7.22)\n"
          ]
        }
      ],
      "source": [
        "# Install Indic NLP library\n",
        "!pip install git+https://github.com/anoopkunchukuttan/indic_nlp_library.git\n",
        "\n",
        "# Import necessary modules\n",
        "from indicnlp.tokenize import indic_tokenize\n",
        "from indicnlp.normalize import indic_normalize\n",
        "\n"
      ]
    },
    {
      "cell_type": "code",
      "execution_count": 9,
      "metadata": {
        "id": "VOhTDlcllpty"
      },
      "outputs": [],
      "source": [
        "import nltk\n",
        "\n",
        "from nltk.stem.porter import *\n",
        "stemmer = PorterStemmer()"
      ]
    },
    {
      "cell_type": "code",
      "execution_count": 10,
      "metadata": {
        "id": "2Plsc0VlmRR4"
      },
      "outputs": [],
      "source": [
        "import os\n",
        "import pandas as pd\n",
        "from bs4 import BeautifulSoup\n",
        "\n",
        "main_file_location = \"/content/gujarati_corpus/gu_GujaratSamachar/\"\n",
        "corpus = {}\n",
        "\n",
        "def extract_text_from_txt(txt_path):\n",
        "    with open(txt_path, 'r', encoding='utf-8') as txt_file:\n",
        "        soup = BeautifulSoup(txt_file, 'xml')\n",
        "        text_elements = soup.find_all('TEXT')\n",
        "        print(text_elements)\n",
        "\n",
        "        if text_elements:\n",
        "            text = \" \".join([elem.get_text() for elem in text_elements if elem.get_text()])\n",
        "\n",
        "            return text.strip()\n",
        "        else:\n",
        "            return None\n",
        "\n",
        "for root_dir, _, files in os.walk(main_file_location):\n",
        "    for file in files:\n",
        "        if file.endswith(\".utf8\"):\n",
        "\n",
        "            txt_path = os.path.join(root_dir, file)\n",
        "            doc_id = file\n",
        "            doc_text = extract_text_from_txt(txt_path)\n",
        "\n",
        "            if doc_text:\n",
        "\n",
        "                corpus[doc_id] = doc_text\n",
        "                print(doc_text)\n",
        "\n",
        "corpus_df = pd.DataFrame(corpus.items(), columns=[\"docno\", \"Text\"])"
      ]
    },
    {
      "cell_type": "code",
      "execution_count": 11,
      "metadata": {
        "colab": {
          "base_uri": "https://localhost:8080/",
          "height": 53
        },
        "id": "YtKA-rIZoFGT",
        "outputId": "1f2c9e3b-0170-4e98-c3eb-e4747a6a5bc9"
      },
      "outputs": [
        {
          "output_type": "execute_result",
          "data": {
            "text/plain": [
              "Empty DataFrame\n",
              "Columns: [docno, Text]\n",
              "Index: []"
            ],
            "text/html": [
              "\n",
              "  <div id=\"df-741d7f67-2f55-4176-8b80-3ad0965187a0\" class=\"colab-df-container\">\n",
              "    <div>\n",
              "<style scoped>\n",
              "    .dataframe tbody tr th:only-of-type {\n",
              "        vertical-align: middle;\n",
              "    }\n",
              "\n",
              "    .dataframe tbody tr th {\n",
              "        vertical-align: top;\n",
              "    }\n",
              "\n",
              "    .dataframe thead th {\n",
              "        text-align: right;\n",
              "    }\n",
              "</style>\n",
              "<table border=\"1\" class=\"dataframe\">\n",
              "  <thead>\n",
              "    <tr style=\"text-align: right;\">\n",
              "      <th></th>\n",
              "      <th>docno</th>\n",
              "      <th>Text</th>\n",
              "    </tr>\n",
              "  </thead>\n",
              "  <tbody>\n",
              "  </tbody>\n",
              "</table>\n",
              "</div>\n",
              "    <div class=\"colab-df-buttons\">\n",
              "\n",
              "  <div class=\"colab-df-container\">\n",
              "    <button class=\"colab-df-convert\" onclick=\"convertToInteractive('df-741d7f67-2f55-4176-8b80-3ad0965187a0')\"\n",
              "            title=\"Convert this dataframe to an interactive table.\"\n",
              "            style=\"display:none;\">\n",
              "\n",
              "  <svg xmlns=\"http://www.w3.org/2000/svg\" height=\"24px\" viewBox=\"0 -960 960 960\">\n",
              "    <path d=\"M120-120v-720h720v720H120Zm60-500h600v-160H180v160Zm220 220h160v-160H400v160Zm0 220h160v-160H400v160ZM180-400h160v-160H180v160Zm440 0h160v-160H620v160ZM180-180h160v-160H180v160Zm440 0h160v-160H620v160Z\"/>\n",
              "  </svg>\n",
              "    </button>\n",
              "\n",
              "  <style>\n",
              "    .colab-df-container {\n",
              "      display:flex;\n",
              "      gap: 12px;\n",
              "    }\n",
              "\n",
              "    .colab-df-convert {\n",
              "      background-color: #E8F0FE;\n",
              "      border: none;\n",
              "      border-radius: 50%;\n",
              "      cursor: pointer;\n",
              "      display: none;\n",
              "      fill: #1967D2;\n",
              "      height: 32px;\n",
              "      padding: 0 0 0 0;\n",
              "      width: 32px;\n",
              "    }\n",
              "\n",
              "    .colab-df-convert:hover {\n",
              "      background-color: #E2EBFA;\n",
              "      box-shadow: 0px 1px 2px rgba(60, 64, 67, 0.3), 0px 1px 3px 1px rgba(60, 64, 67, 0.15);\n",
              "      fill: #174EA6;\n",
              "    }\n",
              "\n",
              "    .colab-df-buttons div {\n",
              "      margin-bottom: 4px;\n",
              "    }\n",
              "\n",
              "    [theme=dark] .colab-df-convert {\n",
              "      background-color: #3B4455;\n",
              "      fill: #D2E3FC;\n",
              "    }\n",
              "\n",
              "    [theme=dark] .colab-df-convert:hover {\n",
              "      background-color: #434B5C;\n",
              "      box-shadow: 0px 1px 3px 1px rgba(0, 0, 0, 0.15);\n",
              "      filter: drop-shadow(0px 1px 2px rgba(0, 0, 0, 0.3));\n",
              "      fill: #FFFFFF;\n",
              "    }\n",
              "  </style>\n",
              "\n",
              "    <script>\n",
              "      const buttonEl =\n",
              "        document.querySelector('#df-741d7f67-2f55-4176-8b80-3ad0965187a0 button.colab-df-convert');\n",
              "      buttonEl.style.display =\n",
              "        google.colab.kernel.accessAllowed ? 'block' : 'none';\n",
              "\n",
              "      async function convertToInteractive(key) {\n",
              "        const element = document.querySelector('#df-741d7f67-2f55-4176-8b80-3ad0965187a0');\n",
              "        const dataTable =\n",
              "          await google.colab.kernel.invokeFunction('convertToInteractive',\n",
              "                                                    [key], {});\n",
              "        if (!dataTable) return;\n",
              "\n",
              "        const docLinkHtml = 'Like what you see? Visit the ' +\n",
              "          '<a target=\"_blank\" href=https://colab.research.google.com/notebooks/data_table.ipynb>data table notebook</a>'\n",
              "          + ' to learn more about interactive tables.';\n",
              "        element.innerHTML = '';\n",
              "        dataTable['output_type'] = 'display_data';\n",
              "        await google.colab.output.renderOutput(dataTable, element);\n",
              "        const docLink = document.createElement('div');\n",
              "        docLink.innerHTML = docLinkHtml;\n",
              "        element.appendChild(docLink);\n",
              "      }\n",
              "    </script>\n",
              "  </div>\n",
              "\n",
              "    </div>\n",
              "  </div>\n"
            ]
          },
          "metadata": {},
          "execution_count": 11
        }
      ],
      "source": [
        "corpus_df"
      ]
    },
    {
      "cell_type": "code",
      "execution_count": 11,
      "metadata": {
        "id": "Gffq65-4oISg"
      },
      "outputs": [],
      "source": []
    },
    {
      "cell_type": "code",
      "execution_count": 12,
      "metadata": {
        "colab": {
          "base_uri": "https://localhost:8080/"
        },
        "id": "YjHAoCTdtG2_",
        "outputId": "c54ab3c1-bedb-4f30-d2af-505c382baad9"
      },
      "outputs": [
        {
          "output_type": "stream",
          "name": "stdout",
          "text": [
            "Empty DataFrame\n",
            "Columns: [docno, Text]\n",
            "Index: []\n"
          ]
        }
      ],
      "source": [
        "import os\n",
        "import pandas as pd\n",
        "from bs4 import BeautifulSoup\n",
        "\n",
        "main_file_location = \"/content/gujarati_corpus\"\n",
        "corpus = {}\n",
        "\n",
        "def extract_text_from_xml(xml_path):\n",
        "    with open(xml_path, 'r', encoding='utf-8') as xml_file:\n",
        "        soup = BeautifulSoup(xml_file, 'xml')\n",
        "        text_elements = soup.find_all('TEXT')\n",
        "\n",
        "        if text_elements:\n",
        "            text = \" \".join([elem.get_text() for elem in text_elements if elem.get_text()])\n",
        "            print(f\"Extracted Text: {text[:50]}...\")  # Print a snippet of the extracted text\n",
        "            return text.strip()\n",
        "        else:\n",
        "            return None\n",
        "\n",
        "\n",
        "for root_dir, _, files in os.walk(main_file_location):\n",
        "    for file in files:\n",
        "        if file.endswith(\".utf8\"):\n",
        "            xml_path = os.path.join(root_dir, file)\n",
        "            doc_id = file\n",
        "            doc_text = extract_text_from_xml(xml_path)\n",
        "\n",
        "            print(f\"Processing: {xml_path}\")\n",
        "            if doc_text:\n",
        "                print(f\"Extracted Text: {doc_text[:50]}...\")  # Print a snippet of the extracted text\n",
        "                corpus[doc_id] = doc_text\n",
        "            else:\n",
        "                print(f\"No text extracted from: {xml_path}\")\n",
        "\n",
        "\n",
        "corpus_df = pd.DataFrame(corpus.items(), columns=[\"docno\", \"Text\"])\n",
        "print(corpus_df.head())  # Print the first few rows of the DataFrame\n"
      ]
    },
    {
      "cell_type": "code",
      "execution_count": 13,
      "metadata": {
        "id": "T6QLGohXBsrG"
      },
      "outputs": [],
      "source": [
        "import os\n",
        "from bs4 import BeautifulSoup\n",
        "import pandas as pd\n",
        "root_directory = '/content/gujarati_corpus/gu_GujaratSamachar'\n",
        "corpus = {}\n",
        "\n",
        "\n",
        "def extract_text_from_xml(xml_path):\n",
        "    with open(xml_path, 'r', encoding='utf-8') as xml_file:\n",
        "        soup = BeautifulSoup(xml_file, 'xml')\n",
        "        text_elements = soup.find_all('TEXT')\n",
        "\n",
        "        if text_elements:\n",
        "            text = \" \".join([elem.get_text() for elem in text_elements if elem.get_text()])\n",
        "            return text.strip()\n",
        "        else:\n",
        "            return None\n",
        "\n",
        "for root_dir, _, files in os.walk(root_directory):\n",
        "    for file in files:\n",
        "        if file.endswith(\".txt\"):\n",
        "\n",
        "            xml_path = os.path.join(root_dir, file)\n",
        "            doc_id = file\n",
        "            doc_text = extract_text_from_xml(xml_path)\n",
        "\n",
        "            if doc_text:\n",
        "\n",
        "                corpus[doc_id] = doc_text\n",
        "\n",
        "corpus_df = pd.DataFrame(corpus.items(), columns=[\"docno\", \"Text\"])"
      ]
    },
    {
      "cell_type": "code",
      "execution_count": 14,
      "metadata": {
        "colab": {
          "base_uri": "https://localhost:8080/",
          "height": 424
        },
        "id": "NouI5fl1p4uD",
        "outputId": "99f7f1a8-7948-4006-eefe-f366e1861cb3"
      },
      "outputs": [
        {
          "output_type": "execute_result",
          "data": {
            "text/plain": [
              "                                                    docno  \\\n",
              "0       gujarat_samachar_date_20021228_guj_busi_3_baza...   \n",
              "1       gujarat_samachar_date_20020913_guj_gujarat_1_i...   \n",
              "2       gujarat_samachar_date_20020723_guj_supplement_...   \n",
              "3       gujarat_samachar_date_20020914_guj_gujarat_51_...   \n",
              "4       gujarat_samachar_date_20021112_guj_gujarat_7_n...   \n",
              "...                                                   ...   \n",
              "313158  gujarat_samachar_date_20040320_guj_sports_8_ne...   \n",
              "313159  gujarat_samachar_date_20040612_guj_internation...   \n",
              "313160  gujarat_samachar_date_20040326_guj_busi_5_inde...   \n",
              "313161  gujarat_samachar_date_20040204_guj_national_7_...   \n",
              "313162  gujarat_samachar_date_20040511_guj_gujarat_44_...   \n",
              "\n",
              "                                                     Text  \n",
              "0       અમદાવાદના  બજારો\\nતેલ તેલીબીયાં\\nચાલુ ડબો ૮૦૦\\...  \n",
              "1       રાજકોટમાં શેઠ  બિલ્ડર્સ પર દરોડા લાખોની બિનહિસ...  \n",
              "2       કેટલીકવાર કાર, સ્કુટર, જીપ, મોટરસાયકલ  જેવાં વ...  \n",
              "3       અંજાર:\\nખંભરા ગામે વર્લ્ડ એન્ડ ડીડ નામની સંસ્થ...  \n",
              "4       અમદાવાદ,સોમવાર\\nરાજ્યના થાપણદારો માટે નવા વર્ષ...  \n",
              "...                                                   ...  \n",
              "313158  બાંગ્લાદેશ  ૧૮૩, ઝિમ્બાબ્વે ૭ વિકેટે ૧૮૫ અંતિમ...  \n",
              "313159  ઈરાકમાં દળો મોકલવાના પ્રશ્ને ભારત નવેસરથી વિચા...  \n",
              "313160  માર્ચ વલણના અંતે વેચાણો કાપવાની  હોડમાં સેન્સે...  \n",
              "313161  (પી.ટી.આઈ.) નવી દિલ્હી, તા. ૩\\nબીઝનેસ પ્રોસેસ ...  \n",
              "313162  નડીયાદ.\\nવિરપુર તાલુકાના ભરોડી ગામમાં ખેરોલી  ...  \n",
              "\n",
              "[313163 rows x 2 columns]"
            ],
            "text/html": [
              "\n",
              "  <div id=\"df-4dc34c5a-ebe9-4d51-96bd-216425a0670b\" class=\"colab-df-container\">\n",
              "    <div>\n",
              "<style scoped>\n",
              "    .dataframe tbody tr th:only-of-type {\n",
              "        vertical-align: middle;\n",
              "    }\n",
              "\n",
              "    .dataframe tbody tr th {\n",
              "        vertical-align: top;\n",
              "    }\n",
              "\n",
              "    .dataframe thead th {\n",
              "        text-align: right;\n",
              "    }\n",
              "</style>\n",
              "<table border=\"1\" class=\"dataframe\">\n",
              "  <thead>\n",
              "    <tr style=\"text-align: right;\">\n",
              "      <th></th>\n",
              "      <th>docno</th>\n",
              "      <th>Text</th>\n",
              "    </tr>\n",
              "  </thead>\n",
              "  <tbody>\n",
              "    <tr>\n",
              "      <th>0</th>\n",
              "      <td>gujarat_samachar_date_20021228_guj_busi_3_baza...</td>\n",
              "      <td>અમદાવાદના  બજારો\\nતેલ તેલીબીયાં\\nચાલુ ડબો ૮૦૦\\...</td>\n",
              "    </tr>\n",
              "    <tr>\n",
              "      <th>1</th>\n",
              "      <td>gujarat_samachar_date_20020913_guj_gujarat_1_i...</td>\n",
              "      <td>રાજકોટમાં શેઠ  બિલ્ડર્સ પર દરોડા લાખોની બિનહિસ...</td>\n",
              "    </tr>\n",
              "    <tr>\n",
              "      <th>2</th>\n",
              "      <td>gujarat_samachar_date_20020723_guj_supplement_...</td>\n",
              "      <td>કેટલીકવાર કાર, સ્કુટર, જીપ, મોટરસાયકલ  જેવાં વ...</td>\n",
              "    </tr>\n",
              "    <tr>\n",
              "      <th>3</th>\n",
              "      <td>gujarat_samachar_date_20020914_guj_gujarat_51_...</td>\n",
              "      <td>અંજાર:\\nખંભરા ગામે વર્લ્ડ એન્ડ ડીડ નામની સંસ્થ...</td>\n",
              "    </tr>\n",
              "    <tr>\n",
              "      <th>4</th>\n",
              "      <td>gujarat_samachar_date_20021112_guj_gujarat_7_n...</td>\n",
              "      <td>અમદાવાદ,સોમવાર\\nરાજ્યના થાપણદારો માટે નવા વર્ષ...</td>\n",
              "    </tr>\n",
              "    <tr>\n",
              "      <th>...</th>\n",
              "      <td>...</td>\n",
              "      <td>...</td>\n",
              "    </tr>\n",
              "    <tr>\n",
              "      <th>313158</th>\n",
              "      <td>gujarat_samachar_date_20040320_guj_sports_8_ne...</td>\n",
              "      <td>બાંગ્લાદેશ  ૧૮૩, ઝિમ્બાબ્વે ૭ વિકેટે ૧૮૫ અંતિમ...</td>\n",
              "    </tr>\n",
              "    <tr>\n",
              "      <th>313159</th>\n",
              "      <td>gujarat_samachar_date_20040612_guj_internation...</td>\n",
              "      <td>ઈરાકમાં દળો મોકલવાના પ્રશ્ને ભારત નવેસરથી વિચા...</td>\n",
              "    </tr>\n",
              "    <tr>\n",
              "      <th>313160</th>\n",
              "      <td>gujarat_samachar_date_20040326_guj_busi_5_inde...</td>\n",
              "      <td>માર્ચ વલણના અંતે વેચાણો કાપવાની  હોડમાં સેન્સે...</td>\n",
              "    </tr>\n",
              "    <tr>\n",
              "      <th>313161</th>\n",
              "      <td>gujarat_samachar_date_20040204_guj_national_7_...</td>\n",
              "      <td>(પી.ટી.આઈ.) નવી દિલ્હી, તા. ૩\\nબીઝનેસ પ્રોસેસ ...</td>\n",
              "    </tr>\n",
              "    <tr>\n",
              "      <th>313162</th>\n",
              "      <td>gujarat_samachar_date_20040511_guj_gujarat_44_...</td>\n",
              "      <td>નડીયાદ.\\nવિરપુર તાલુકાના ભરોડી ગામમાં ખેરોલી  ...</td>\n",
              "    </tr>\n",
              "  </tbody>\n",
              "</table>\n",
              "<p>313163 rows × 2 columns</p>\n",
              "</div>\n",
              "    <div class=\"colab-df-buttons\">\n",
              "\n",
              "  <div class=\"colab-df-container\">\n",
              "    <button class=\"colab-df-convert\" onclick=\"convertToInteractive('df-4dc34c5a-ebe9-4d51-96bd-216425a0670b')\"\n",
              "            title=\"Convert this dataframe to an interactive table.\"\n",
              "            style=\"display:none;\">\n",
              "\n",
              "  <svg xmlns=\"http://www.w3.org/2000/svg\" height=\"24px\" viewBox=\"0 -960 960 960\">\n",
              "    <path d=\"M120-120v-720h720v720H120Zm60-500h600v-160H180v160Zm220 220h160v-160H400v160Zm0 220h160v-160H400v160ZM180-400h160v-160H180v160Zm440 0h160v-160H620v160ZM180-180h160v-160H180v160Zm440 0h160v-160H620v160Z\"/>\n",
              "  </svg>\n",
              "    </button>\n",
              "\n",
              "  <style>\n",
              "    .colab-df-container {\n",
              "      display:flex;\n",
              "      gap: 12px;\n",
              "    }\n",
              "\n",
              "    .colab-df-convert {\n",
              "      background-color: #E8F0FE;\n",
              "      border: none;\n",
              "      border-radius: 50%;\n",
              "      cursor: pointer;\n",
              "      display: none;\n",
              "      fill: #1967D2;\n",
              "      height: 32px;\n",
              "      padding: 0 0 0 0;\n",
              "      width: 32px;\n",
              "    }\n",
              "\n",
              "    .colab-df-convert:hover {\n",
              "      background-color: #E2EBFA;\n",
              "      box-shadow: 0px 1px 2px rgba(60, 64, 67, 0.3), 0px 1px 3px 1px rgba(60, 64, 67, 0.15);\n",
              "      fill: #174EA6;\n",
              "    }\n",
              "\n",
              "    .colab-df-buttons div {\n",
              "      margin-bottom: 4px;\n",
              "    }\n",
              "\n",
              "    [theme=dark] .colab-df-convert {\n",
              "      background-color: #3B4455;\n",
              "      fill: #D2E3FC;\n",
              "    }\n",
              "\n",
              "    [theme=dark] .colab-df-convert:hover {\n",
              "      background-color: #434B5C;\n",
              "      box-shadow: 0px 1px 3px 1px rgba(0, 0, 0, 0.15);\n",
              "      filter: drop-shadow(0px 1px 2px rgba(0, 0, 0, 0.3));\n",
              "      fill: #FFFFFF;\n",
              "    }\n",
              "  </style>\n",
              "\n",
              "    <script>\n",
              "      const buttonEl =\n",
              "        document.querySelector('#df-4dc34c5a-ebe9-4d51-96bd-216425a0670b button.colab-df-convert');\n",
              "      buttonEl.style.display =\n",
              "        google.colab.kernel.accessAllowed ? 'block' : 'none';\n",
              "\n",
              "      async function convertToInteractive(key) {\n",
              "        const element = document.querySelector('#df-4dc34c5a-ebe9-4d51-96bd-216425a0670b');\n",
              "        const dataTable =\n",
              "          await google.colab.kernel.invokeFunction('convertToInteractive',\n",
              "                                                    [key], {});\n",
              "        if (!dataTable) return;\n",
              "\n",
              "        const docLinkHtml = 'Like what you see? Visit the ' +\n",
              "          '<a target=\"_blank\" href=https://colab.research.google.com/notebooks/data_table.ipynb>data table notebook</a>'\n",
              "          + ' to learn more about interactive tables.';\n",
              "        element.innerHTML = '';\n",
              "        dataTable['output_type'] = 'display_data';\n",
              "        await google.colab.output.renderOutput(dataTable, element);\n",
              "        const docLink = document.createElement('div');\n",
              "        docLink.innerHTML = docLinkHtml;\n",
              "        element.appendChild(docLink);\n",
              "      }\n",
              "    </script>\n",
              "  </div>\n",
              "\n",
              "\n",
              "<div id=\"df-d5f49b99-56cc-4095-aede-912f9ba5e58b\">\n",
              "  <button class=\"colab-df-quickchart\" onclick=\"quickchart('df-d5f49b99-56cc-4095-aede-912f9ba5e58b')\"\n",
              "            title=\"Suggest charts.\"\n",
              "            style=\"display:none;\">\n",
              "\n",
              "<svg xmlns=\"http://www.w3.org/2000/svg\" height=\"24px\"viewBox=\"0 0 24 24\"\n",
              "     width=\"24px\">\n",
              "    <g>\n",
              "        <path d=\"M19 3H5c-1.1 0-2 .9-2 2v14c0 1.1.9 2 2 2h14c1.1 0 2-.9 2-2V5c0-1.1-.9-2-2-2zM9 17H7v-7h2v7zm4 0h-2V7h2v10zm4 0h-2v-4h2v4z\"/>\n",
              "    </g>\n",
              "</svg>\n",
              "  </button>\n",
              "\n",
              "<style>\n",
              "  .colab-df-quickchart {\n",
              "      --bg-color: #E8F0FE;\n",
              "      --fill-color: #1967D2;\n",
              "      --hover-bg-color: #E2EBFA;\n",
              "      --hover-fill-color: #174EA6;\n",
              "      --disabled-fill-color: #AAA;\n",
              "      --disabled-bg-color: #DDD;\n",
              "  }\n",
              "\n",
              "  [theme=dark] .colab-df-quickchart {\n",
              "      --bg-color: #3B4455;\n",
              "      --fill-color: #D2E3FC;\n",
              "      --hover-bg-color: #434B5C;\n",
              "      --hover-fill-color: #FFFFFF;\n",
              "      --disabled-bg-color: #3B4455;\n",
              "      --disabled-fill-color: #666;\n",
              "  }\n",
              "\n",
              "  .colab-df-quickchart {\n",
              "    background-color: var(--bg-color);\n",
              "    border: none;\n",
              "    border-radius: 50%;\n",
              "    cursor: pointer;\n",
              "    display: none;\n",
              "    fill: var(--fill-color);\n",
              "    height: 32px;\n",
              "    padding: 0;\n",
              "    width: 32px;\n",
              "  }\n",
              "\n",
              "  .colab-df-quickchart:hover {\n",
              "    background-color: var(--hover-bg-color);\n",
              "    box-shadow: 0 1px 2px rgba(60, 64, 67, 0.3), 0 1px 3px 1px rgba(60, 64, 67, 0.15);\n",
              "    fill: var(--button-hover-fill-color);\n",
              "  }\n",
              "\n",
              "  .colab-df-quickchart-complete:disabled,\n",
              "  .colab-df-quickchart-complete:disabled:hover {\n",
              "    background-color: var(--disabled-bg-color);\n",
              "    fill: var(--disabled-fill-color);\n",
              "    box-shadow: none;\n",
              "  }\n",
              "\n",
              "  .colab-df-spinner {\n",
              "    border: 2px solid var(--fill-color);\n",
              "    border-color: transparent;\n",
              "    border-bottom-color: var(--fill-color);\n",
              "    animation:\n",
              "      spin 1s steps(1) infinite;\n",
              "  }\n",
              "\n",
              "  @keyframes spin {\n",
              "    0% {\n",
              "      border-color: transparent;\n",
              "      border-bottom-color: var(--fill-color);\n",
              "      border-left-color: var(--fill-color);\n",
              "    }\n",
              "    20% {\n",
              "      border-color: transparent;\n",
              "      border-left-color: var(--fill-color);\n",
              "      border-top-color: var(--fill-color);\n",
              "    }\n",
              "    30% {\n",
              "      border-color: transparent;\n",
              "      border-left-color: var(--fill-color);\n",
              "      border-top-color: var(--fill-color);\n",
              "      border-right-color: var(--fill-color);\n",
              "    }\n",
              "    40% {\n",
              "      border-color: transparent;\n",
              "      border-right-color: var(--fill-color);\n",
              "      border-top-color: var(--fill-color);\n",
              "    }\n",
              "    60% {\n",
              "      border-color: transparent;\n",
              "      border-right-color: var(--fill-color);\n",
              "    }\n",
              "    80% {\n",
              "      border-color: transparent;\n",
              "      border-right-color: var(--fill-color);\n",
              "      border-bottom-color: var(--fill-color);\n",
              "    }\n",
              "    90% {\n",
              "      border-color: transparent;\n",
              "      border-bottom-color: var(--fill-color);\n",
              "    }\n",
              "  }\n",
              "</style>\n",
              "\n",
              "  <script>\n",
              "    async function quickchart(key) {\n",
              "      const quickchartButtonEl =\n",
              "        document.querySelector('#' + key + ' button');\n",
              "      quickchartButtonEl.disabled = true;  // To prevent multiple clicks.\n",
              "      quickchartButtonEl.classList.add('colab-df-spinner');\n",
              "      try {\n",
              "        const charts = await google.colab.kernel.invokeFunction(\n",
              "            'suggestCharts', [key], {});\n",
              "      } catch (error) {\n",
              "        console.error('Error during call to suggestCharts:', error);\n",
              "      }\n",
              "      quickchartButtonEl.classList.remove('colab-df-spinner');\n",
              "      quickchartButtonEl.classList.add('colab-df-quickchart-complete');\n",
              "    }\n",
              "    (() => {\n",
              "      let quickchartButtonEl =\n",
              "        document.querySelector('#df-d5f49b99-56cc-4095-aede-912f9ba5e58b button');\n",
              "      quickchartButtonEl.style.display =\n",
              "        google.colab.kernel.accessAllowed ? 'block' : 'none';\n",
              "    })();\n",
              "  </script>\n",
              "</div>\n",
              "    </div>\n",
              "  </div>\n"
            ]
          },
          "metadata": {},
          "execution_count": 14
        }
      ],
      "source": [
        "corpus_df"
      ]
    },
    {
      "cell_type": "code",
      "execution_count": 15,
      "metadata": {
        "colab": {
          "base_uri": "https://localhost:8080/",
          "height": 123
        },
        "id": "haABEI7J1HfO",
        "outputId": "9f32b89e-64af-4c2d-9892-3a7991c24b53"
      },
      "outputs": [
        {
          "output_type": "execute_result",
          "data": {
            "text/plain": [
              "'અમદાવાદના  બજારો\\nતેલ તેલીબીયાં\\nચાલુ ડબો ૮૦૦\\nલેબલ ટીન ૮૪૦-૮૫૦\\nવનસ્પતિ ૬૮૦-૭૦૦\\nમોળું સરસીયું ૭૨૦\\nતીખું સરસીયું ૭૭૫-૮૦૦\\nકપાસીયા તેલ ૬૯૦-૭૧૦\\nકોપરેલ ૯૫૦-૯૬૦\\nદિવેલ ૬૩૦\\nપામ ૬૦૫\\nપામોલીન ૬૩૫\\nરાયડાતેલ ૭૦૦\\nસોયા તેલ ૭૦૦\\nમકાઈ તેલ ૭૫૦-૮૦૦\\nસન ફ્લાવર ૮૫૦-૯૦૦\\nહાજર તેલીબીયા\\nએરંડા હાજર ૩૫૫\\nકપાસીયા ૧૯૩\\nસીંગતેલ ૭૯૦\\nદિવેલ ૩૭૯\\nખાંડ બજાર\\nહાજર સી ૧૨૫૫-૧૩૦૫\\nડી ૧૨૦૫-૧૨૫૫\\nમીલ ડીલીવરી\\nગુજરાત સી ૧૧૯૦-૧૨૨૦\\nડી ૧૧૫૦-૧૧૮૦\\nકોલ્હાપુર સી ૧૧૫૦-૧૧૭૫\\nડી ૧૧૩૫-૧૧૫૦\\nબેલાપુર સી ૧૧૬૫-૧૧૯૦\\nડી ૧૧૪૫-૧૧૬૫\\nરૂ બજાર\\nશંકર એ ૧૯૪૦૦-૧૯૭૦૦\\nશંકર બી ૧૮૭૦૦-૧૯૦૦૦\\nશંકર સી ૧૭૯૦૦-૧૮૩૦૦\\nશંકર ડી ૧૭૪૦૦-૧૭૬૦૦\\nકલ્યાણ નવું ૧૨૪૦૦-૧૨૫૦૦\\nમોરબી વાગડ ૧૨૨૦૦-૧૨૩૦૦\\nકાલા જીન ૧૨૦૦૦-૧૨૦૫૦\\nગોળબજાર\\nકોલ્હાપુર સુપીરીયર ૧૫૦૦-૧૮૦૦\\nચાકુ ૮૦૦-૮૫૦\\nહાપુર બાલ્ટી ૭૭૫-૮૦૦\\nપાપડી ૭૭૫-૮૦૦\\nલાતુર રવા ૮૦૦-૮૨૫\\n    \\nવિવિધ સોના  ચાંદી બજારો\\nઅમદાવાદ\\nચોરસા ૭૮૨૫-૭૮૭૫\\nપેટી ૭૮૨૫-૭૮૭૫\\nરૂપું ૭૭૦૦-૭૭૫૦\\nસિક્કા જુના ૧૦૫૦૦-૧૧૫૦૦\\nનવા ૪૩૦૦-૪૮૦૦\\nસ્ટા. સોનું ૫૬૦૦-૫૬૫૦\\n૧૦ ગ્રામ તેજાબી ૫૫૫૦-૫૬૦૦\\nદિલ્હી\\nચાંદી હાજર ૭૮૩૫\\nચાંદી અઠ. ડીલીવરી ૭૮૪૦\\nસિક્કા ૧૨૦૦૦-૧૨૧૦૦\\nસ્ટા. સોનું ૫૬૬૦\\nદાગીના ૫૫૧૦\\nગીની ૪૪૨૫\\nમુંબઈ\\nચાંદી ૯૯૯ ૭૯૯૫\\nસ્ટા. સોનું ૫૬૪૦\\nસોનું (૧૦ તોલા) ૬૬૨૦૦\\nકોલકત્તાા\\nચાંદી બાટ ૭૯૨૫\\nચાંદી ચોરસા ૮૦૨૫\\nસ્ટા. સોનું ૫૬૯૦\\n૨૨ કેરેટ ૫૩૭૦\\n                       ૨૦૦૦-૨૦૦૨,'"
            ],
            "application/vnd.google.colaboratory.intrinsic+json": {
              "type": "string"
            }
          },
          "metadata": {},
          "execution_count": 15
        }
      ],
      "source": [
        "corpus_df['Text'][0]"
      ]
    },
    {
      "cell_type": "code",
      "execution_count": 16,
      "metadata": {
        "colab": {
          "base_uri": "https://localhost:8080/"
        },
        "id": "yMH9cvzGTQq5",
        "outputId": "5d54d8c0-21a3-4a54-ceca-a8df57e15ab1"
      },
      "outputs": [
        {
          "output_type": "stream",
          "name": "stderr",
          "text": [
            "[nltk_data] Downloading package punkt to /root/nltk_data...\n",
            "[nltk_data]   Unzipping tokenizers/punkt.zip.\n",
            "[nltk_data] Downloading package stopwords to /root/nltk_data...\n",
            "[nltk_data]   Unzipping corpora/stopwords.zip.\n"
          ]
        }
      ],
      "source": [
        "import nltk\n",
        "import re\n",
        "from nltk.corpus import stopwords\n",
        "from nltk.stem import PorterStemmer\n",
        "\n",
        "nltk.download('punkt')\n",
        "nltk.download('stopwords')\n",
        "\n",
        "stemmer = PorterStemmer()\n",
        "stop_words = set(stopwords.words('english'))\n",
        "\n",
        "def preprocess(text):\n",
        "\n",
        "    processed_text = re.sub(r'[^\\w\\s]', ' ', text)\n",
        "    processed_text = processed_text.lower()\n",
        "    words = nltk.word_tokenize(processed_text)\n",
        "    stemmed_words = [stemmer.stem(word) for word in words if word not in stop_words]\n",
        "    processed_text = \" \".join(stemmed_words)\n",
        "\n",
        "    return processed_text"
      ]
    },
    {
      "cell_type": "code",
      "execution_count": null,
      "metadata": {
        "colab": {
          "background_save": true
        },
        "id": "u82Am59sTUSf"
      },
      "outputs": [],
      "source": [
        "corpus_df['processed_text'] = corpus_df['Text'].apply(preprocess)"
      ]
    },
    {
      "cell_type": "code",
      "execution_count": null,
      "metadata": {
        "colab": {
          "background_save": true
        },
        "id": "A-Qaxu15TWyl"
      },
      "outputs": [],
      "source": [
        "corpus_df['processed_text'][0]"
      ]
    },
    {
      "cell_type": "markdown",
      "metadata": {
        "id": "ETkUxmWzTtEN"
      },
      "source": [
        "2. Index the documents using TF-IDF. [4 marks]"
      ]
    },
    {
      "cell_type": "code",
      "execution_count": null,
      "metadata": {
        "colab": {
          "background_save": true
        },
        "id": "58azerAyTbZM"
      },
      "outputs": [],
      "source": [
        "!pip install python-terrier"
      ]
    },
    {
      "cell_type": "code",
      "execution_count": null,
      "metadata": {
        "colab": {
          "background_save": true
        },
        "id": "ZnjPDvgJTwF_"
      },
      "outputs": [],
      "source": [
        "import pyterrier as pt\n",
        "pt.init()"
      ]
    },
    {
      "cell_type": "code",
      "execution_count": null,
      "metadata": {
        "colab": {
          "background_save": true
        },
        "id": "SHfZbNYeUNzY"
      },
      "outputs": [],
      "source": [
        "pd_indexer = pt.DFIndexer(\"./pd_index\",tokeniser=\"UTFTokeniser\")\n",
        "indexref = pd_indexer.index(corpus_df[\"processed_text\"].astype(str), corpus_df[\"docno\"].astype(str))"
      ]
    },
    {
      "cell_type": "code",
      "execution_count": null,
      "metadata": {
        "colab": {
          "background_save": true
        },
        "id": "WSizcsuKUP4D"
      },
      "outputs": [],
      "source": [
        "index = pt.IndexFactory.of(indexref)\n",
        "print(index.getCollectionStatistics().toString())"
      ]
    },
    {
      "cell_type": "markdown",
      "metadata": {
        "id": "aviAnL_-eweT"
      },
      "source": [
        "3)  Use the text in < title> in the queries convert to TF-IDF [2 marks]"
      ]
    },
    {
      "cell_type": "code",
      "execution_count": null,
      "metadata": {
        "colab": {
          "background_save": true
        },
        "id": "JSlBMgH_UQUm"
      },
      "outputs": [],
      "source": [
        "import xml.etree.ElementTree as ET\n",
        "import pandas as pd\n"
      ]
    },
    {
      "cell_type": "code",
      "execution_count": null,
      "metadata": {
        "colab": {
          "background_save": true
        },
        "id": "FhOgLLo1e2rQ"
      },
      "outputs": [],
      "source": [
        "# Define the path to the query file\n",
        "path_query_file= \"/content/gujarati_corpus/gujarati_corpus/gu.topics.176-225.2012.txt\"\n",
        "\n",
        "tree = ET.parse(path_query_file)\n",
        "root = tree.getroot()\n",
        "root\n"
      ]
    },
    {
      "cell_type": "code",
      "execution_count": null,
      "metadata": {
        "colab": {
          "background_save": true
        },
        "id": "v5A-hyEdfFxz"
      },
      "outputs": [],
      "source": [
        "# Read the query file into a DataFrame\n",
        "columns = [\"qid\", \"query\"]\n",
        "queries = []\n",
        "\n",
        "for topic in root.findall('top'):\n",
        "    topic_number = topic.find('num').text\n",
        "    title = topic.find('title').text\n",
        "    queries.append([topic_number,title])\n",
        "\n",
        "query_df = pd.DataFrame(queries, columns=columns)\n",
        "\n",
        "query_df"
      ]
    },
    {
      "cell_type": "code",
      "execution_count": null,
      "metadata": {
        "colab": {
          "background_save": true
        },
        "id": "MaGOzVnLoK28"
      },
      "outputs": [],
      "source": [
        "br = pt.BatchRetrieve(index, wmodel=\"TF_IDF\")\n",
        "res = br.transform(query_df)\n",
        "res"
      ]
    },
    {
      "cell_type": "markdown",
      "metadata": {
        "id": "nZslxELR2AvS"
      },
      "source": [
        "4. Perform retrieval and perform evaluation using: [3 marks]<br>\n",
        "• Mean Average Precision (MAP)<br>\n",
        "• Precision@10<br>\n",
        "• BPREF<br>"
      ]
    },
    {
      "cell_type": "code",
      "execution_count": null,
      "metadata": {
        "colab": {
          "background_save": true
        },
        "id": "tDE7gnJn0pDC"
      },
      "outputs": [],
      "source": [
        "q_path=(\"/content/gujarati_corpus/guj_queries.txt\")\n",
        "qrels = pt.io.read_qrels(q_path)\n",
        "qrels"
      ]
    },
    {
      "cell_type": "markdown",
      "metadata": {
        "id": "Mo2xe9yp2W1D"
      },
      "source": [
        "Querywise Evaluation"
      ]
    },
    {
      "cell_type": "code",
      "execution_count": null,
      "metadata": {
        "colab": {
          "background_save": true
        },
        "id": "g4ot3vLZ2Se_"
      },
      "outputs": [],
      "source": [
        "eval = pt.Utils.evaluate(res,qrels, metrics=['P_10', 'bpref', 'map'])"
      ]
    },
    {
      "cell_type": "code",
      "execution_count": null,
      "metadata": {
        "colab": {
          "background_save": true
        },
        "id": "33lh3QC3-Ahz"
      },
      "outputs": [],
      "source": [
        "eval"
      ]
    },
    {
      "cell_type": "code",
      "execution_count": null,
      "metadata": {
        "colab": {
          "background_save": true
        },
        "id": "pQExwniX-e_w"
      },
      "outputs": [],
      "source": []
    }
  ],
  "metadata": {
    "colab": {
      "provenance": []
    },
    "kernelspec": {
      "display_name": "Python 3",
      "name": "python3"
    },
    "language_info": {
      "name": "python"
    }
  },
  "nbformat": 4,
  "nbformat_minor": 0
}